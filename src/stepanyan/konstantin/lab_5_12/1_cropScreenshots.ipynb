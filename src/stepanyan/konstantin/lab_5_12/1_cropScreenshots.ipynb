{
 "cells": [
  {
   "cell_type": "code",
   "execution_count": 24,
   "metadata": {},
   "outputs": [],
   "source": [
    "# Путь к папке с картинками\n",
    "path = \"Скрины/\"\n",
    "\n",
    "# Путь к папке с обрезанными картинками\n",
    "\n",
    "# Параметры для обрезки картинки \n",
    "left = 165; #px. Убрать слева\n",
    "top = 178; #px. Убрать сверху\n",
    "right = 80; #px. Убрать справа \n",
    "bottom = 80; #px. Убрать снизу"
   ]
  },
  {
   "cell_type": "code",
   "execution_count": 25,
   "metadata": {},
   "outputs": [
    {
     "name": "stdout",
     "output_type": "stream",
     "text": [
      "Requirement already satisfied: Pillow in c:\\python311\\lib\\site-packages (9.5.0)\n"
     ]
    },
    {
     "name": "stderr",
     "output_type": "stream",
     "text": [
      "\n",
      "[notice] A new release of pip available: 22.3.1 -> 23.1.2\n",
      "[notice] To update, run: python.exe -m pip install --upgrade pip\n"
     ]
    }
   ],
   "source": [
    "#Устанавливаем Pillow если его нету\n",
    "!pip install Pillow"
   ]
  },
  {
   "cell_type": "code",
   "execution_count": 26,
   "metadata": {},
   "outputs": [],
   "source": [
    "from PIL import Image\n",
    "import os"
   ]
  },
  {
   "cell_type": "code",
   "execution_count": 27,
   "metadata": {},
   "outputs": [],
   "source": [
    "# Создаем новую папку, куда будем сохранять обрезанные картинки\n",
    "if not os.path.exists(\"Cropped/\"):\n",
    "    os.makedirs(\"Cropped/\")"
   ]
  },
  {
   "cell_type": "code",
   "execution_count": 29,
   "metadata": {},
   "outputs": [
    {
     "ename": "ValueError",
     "evalue": "Coordinate 'lower' is less than 'upper'",
     "output_type": "error",
     "traceback": [
      "\u001b[1;31m---------------------------------------------------------------------------\u001b[0m",
      "\u001b[1;31mValueError\u001b[0m                                Traceback (most recent call last)",
      "Cell \u001b[1;32mIn[29], line 9\u001b[0m\n\u001b[0;32m      7\u001b[0m bottom \u001b[39m=\u001b[39m img\u001b[39m.\u001b[39msize[\u001b[39m1\u001b[39m]\u001b[39m-\u001b[39mbottom \u001b[39m#если bottom изначально = 70, то теперь img.size[1] (высота) - 70\u001b[39;00m\n\u001b[0;32m      8\u001b[0m \u001b[39m# Обрезаем картинку\u001b[39;00m\n\u001b[1;32m----> 9\u001b[0m cropped_img \u001b[39m=\u001b[39m img\u001b[39m.\u001b[39;49mcrop((left, top, right, bottom))\n\u001b[0;32m     10\u001b[0m \u001b[39m# Сохраняем обрезанную картинку в новой папке с тем же именем\u001b[39;00m\n\u001b[0;32m     11\u001b[0m cropped_img\u001b[39m.\u001b[39msave(\u001b[39m\"\u001b[39m\u001b[39mCropped/\u001b[39m\u001b[39m\"\u001b[39m \u001b[39m+\u001b[39m file_name)\n",
      "File \u001b[1;32mc:\\Python311\\Lib\\site-packages\\PIL\\Image.py:1227\u001b[0m, in \u001b[0;36mImage.crop\u001b[1;34m(self, box)\u001b[0m\n\u001b[0;32m   1225\u001b[0m \u001b[39melif\u001b[39;00m box[\u001b[39m3\u001b[39m] \u001b[39m<\u001b[39m box[\u001b[39m1\u001b[39m]:\n\u001b[0;32m   1226\u001b[0m     msg \u001b[39m=\u001b[39m \u001b[39m\"\u001b[39m\u001b[39mCoordinate \u001b[39m\u001b[39m'\u001b[39m\u001b[39mlower\u001b[39m\u001b[39m'\u001b[39m\u001b[39m is less than \u001b[39m\u001b[39m'\u001b[39m\u001b[39mupper\u001b[39m\u001b[39m'\u001b[39m\u001b[39m\"\u001b[39m\n\u001b[1;32m-> 1227\u001b[0m     \u001b[39mraise\u001b[39;00m \u001b[39mValueError\u001b[39;00m(msg)\n\u001b[0;32m   1229\u001b[0m \u001b[39mself\u001b[39m\u001b[39m.\u001b[39mload()\n\u001b[0;32m   1230\u001b[0m \u001b[39mreturn\u001b[39;00m \u001b[39mself\u001b[39m\u001b[39m.\u001b[39m_new(\u001b[39mself\u001b[39m\u001b[39m.\u001b[39m_crop(\u001b[39mself\u001b[39m\u001b[39m.\u001b[39mim, box))\n",
      "\u001b[1;31mValueError\u001b[0m: Coordinate 'lower' is less than 'upper'"
     ]
    }
   ],
   "source": [
    "# Проходимся по всем файлам в папке Screenshots\n",
    "for file_name in os.listdir(path):\n",
    "    # Открываем каждую картинку\n",
    "    img = Image.open(path + file_name)\n",
    "\n",
    "    right = img.size[0]-right #если right изначально = 80, то теперь img.size[0] (ширина) - 80. Это так надо\n",
    "    bottom = img.size[1]-bottom #если bottom изначально = 70, то теперь img.size[1] (высота) - 70\n",
    "    # Обрезаем картинку\n",
    "    cropped_img = img.crop((left, top, right, bottom))\n",
    "    # Сохраняем обрезанную картинку в новой папке с тем же именем\n",
    "    cropped_img.save(\"Cropped/\" + file_name)"
   ]
  }
 ],
 "metadata": {
  "kernelspec": {
   "display_name": "Python 3",
   "language": "python",
   "name": "python3"
  },
  "language_info": {
   "codemirror_mode": {
    "name": "ipython",
    "version": 3
   },
   "file_extension": ".py",
   "mimetype": "text/x-python",
   "name": "python",
   "nbconvert_exporter": "python",
   "pygments_lexer": "ipython3",
   "version": "3.11.2"
  },
  "orig_nbformat": 4
 },
 "nbformat": 4,
 "nbformat_minor": 2
}
