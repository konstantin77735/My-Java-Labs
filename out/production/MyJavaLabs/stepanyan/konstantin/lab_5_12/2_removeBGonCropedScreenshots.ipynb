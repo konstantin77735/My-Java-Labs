{
 "cells": [
  {
   "cell_type": "code",
   "execution_count": 1,
   "metadata": {},
   "outputs": [],
   "source": [
    "import colorsys #это для преобразования #ff00ff в формат rgb (255, 00, 255)\n",
    "\n",
    "from PIL import Image, ImageFilter\n",
    "\n",
    "#####       Вводим нужные пременные: нужный цвет и fizziness \n",
    "\n",
    "\n",
    "# Цвет, который нужно выделить в шестнадатеричном формате\n",
    "hex_color = \"#282c34\"\n",
    "\n",
    "# Определите допустимую разницу в цвете между пикселем и target_color\n",
    "# (Fuzziness: 168 в Photoshop)\n",
    "fuzziness = 180\n"
   ]
  },
  {
   "cell_type": "code",
   "execution_count": 2,
   "metadata": {},
   "outputs": [],
   "source": [
    "hex_color = hex_color[1:] # Удалите символ \"#\" из строки\n",
    "\n",
    "rgb_color = tuple(int(hex_color[i:i+2], 16) for i in (0, 2, 4)) # Преобразуйте шестнадцатеричный цвет в RGB\n",
    "\n",
    "rgb_color = tuple(c / 255.0 for c in rgb_color) # Преобразуйте RGB в диапазоне 0-255 в диапазон 0-1\n",
    "\n",
    "hls_color = colorsys.rgb_to_hls(*rgb_color[:3]) # Преобразуйте RGB в формат HLS\n",
    "\n",
    "\n",
    "rgb_color = tuple(round(c * 255) for c in colorsys.hls_to_rgb(*hls_color)) # Преобразуйте HLS в формат RGB\n",
    "\n",
    "target_color = (40, 44, 52)"
   ]
  },
  {
   "cell_type": "code",
   "execution_count": 3,
   "metadata": {},
   "outputs": [
    {
     "name": "stdout",
     "output_type": "stream",
     "text": [
      "Requirement already satisfied: Pillow in c:\\python311\\lib\\site-packages (9.5.0)\n"
     ]
    },
    {
     "name": "stderr",
     "output_type": "stream",
     "text": [
      "\n",
      "[notice] A new release of pip available: 22.3.1 -> 23.1.2\n",
      "[notice] To update, run: python.exe -m pip install --upgrade pip\n"
     ]
    }
   ],
   "source": [
    "#Устанавливаем Pillow если его нету\n",
    "!pip install Pillow"
   ]
  },
  {
   "cell_type": "code",
   "execution_count": 4,
   "metadata": {},
   "outputs": [],
   "source": [
    "import os"
   ]
  },
  {
   "cell_type": "code",
   "execution_count": 5,
   "metadata": {},
   "outputs": [
    {
     "ename": "TypeError",
     "evalue": "cannot unpack non-iterable int object",
     "output_type": "error",
     "traceback": [
      "\u001b[1;31m---------------------------------------------------------------------------\u001b[0m",
      "\u001b[1;31mTypeError\u001b[0m                                 Traceback (most recent call last)",
      "Cell \u001b[1;32mIn[5], line 15\u001b[0m\n\u001b[0;32m     13\u001b[0m img \u001b[39m=\u001b[39m Image\u001b[39m.\u001b[39mopen(os\u001b[39m.\u001b[39mpath\u001b[39m.\u001b[39mjoin(\u001b[39m\"\u001b[39m\u001b[39mCropped\u001b[39m\u001b[39m\"\u001b[39m, file_name))\n\u001b[0;32m     14\u001b[0m img \u001b[39m=\u001b[39m img\u001b[39m.\u001b[39mconvert(\u001b[39m\"\u001b[39m\u001b[39mRGBA\u001b[39m\u001b[39m\"\u001b[39m)\n\u001b[1;32m---> 15\u001b[0m img \u001b[39m=\u001b[39m img\u001b[39m.\u001b[39;49mpoint(remove_color)\n\u001b[0;32m     16\u001b[0m img\u001b[39m.\u001b[39msave(os\u001b[39m.\u001b[39mpath\u001b[39m.\u001b[39mjoin(\u001b[39m\"\u001b[39m\u001b[39mCropped\u001b[39m\u001b[39m\"\u001b[39m, \u001b[39m\"\u001b[39m\u001b[39mremoved_bg_\u001b[39m\u001b[39m\"\u001b[39m \u001b[39m+\u001b[39m file_name))\n",
      "File \u001b[1;32mc:\\Python311\\Lib\\site-packages\\PIL\\Image.py:1825\u001b[0m, in \u001b[0;36mImage.point\u001b[1;34m(self, lut, mode)\u001b[0m\n\u001b[0;32m   1823\u001b[0m         \u001b[39mreturn\u001b[39;00m \u001b[39mself\u001b[39m\u001b[39m.\u001b[39m_new(\u001b[39mself\u001b[39m\u001b[39m.\u001b[39mim\u001b[39m.\u001b[39mpoint_transform(scale, offset))\n\u001b[0;32m   1824\u001b[0m     \u001b[39m# for other modes, convert the function to a table\u001b[39;00m\n\u001b[1;32m-> 1825\u001b[0m     lut \u001b[39m=\u001b[39m [lut(i) \u001b[39mfor\u001b[39;49;00m i \u001b[39min\u001b[39;49;00m \u001b[39mrange\u001b[39;49m(\u001b[39m256\u001b[39;49m)] \u001b[39m*\u001b[39m \u001b[39mself\u001b[39m\u001b[39m.\u001b[39mim\u001b[39m.\u001b[39mbands\n\u001b[0;32m   1827\u001b[0m \u001b[39mif\u001b[39;00m \u001b[39mself\u001b[39m\u001b[39m.\u001b[39mmode \u001b[39m==\u001b[39m \u001b[39m\"\u001b[39m\u001b[39mF\u001b[39m\u001b[39m\"\u001b[39m:\n\u001b[0;32m   1828\u001b[0m     \u001b[39m# FIXME: _imaging returns a confusing error message for this case\u001b[39;00m\n\u001b[0;32m   1829\u001b[0m     msg \u001b[39m=\u001b[39m \u001b[39m\"\u001b[39m\u001b[39mpoint operation not supported for this mode\u001b[39m\u001b[39m\"\u001b[39m\n",
      "File \u001b[1;32mc:\\Python311\\Lib\\site-packages\\PIL\\Image.py:1825\u001b[0m, in \u001b[0;36m<listcomp>\u001b[1;34m(.0)\u001b[0m\n\u001b[0;32m   1823\u001b[0m         \u001b[39mreturn\u001b[39;00m \u001b[39mself\u001b[39m\u001b[39m.\u001b[39m_new(\u001b[39mself\u001b[39m\u001b[39m.\u001b[39mim\u001b[39m.\u001b[39mpoint_transform(scale, offset))\n\u001b[0;32m   1824\u001b[0m     \u001b[39m# for other modes, convert the function to a table\u001b[39;00m\n\u001b[1;32m-> 1825\u001b[0m     lut \u001b[39m=\u001b[39m [lut(i) \u001b[39mfor\u001b[39;00m i \u001b[39min\u001b[39;00m \u001b[39mrange\u001b[39m(\u001b[39m256\u001b[39m)] \u001b[39m*\u001b[39m \u001b[39mself\u001b[39m\u001b[39m.\u001b[39mim\u001b[39m.\u001b[39mbands\n\u001b[0;32m   1827\u001b[0m \u001b[39mif\u001b[39;00m \u001b[39mself\u001b[39m\u001b[39m.\u001b[39mmode \u001b[39m==\u001b[39m \u001b[39m\"\u001b[39m\u001b[39mF\u001b[39m\u001b[39m\"\u001b[39m:\n\u001b[0;32m   1828\u001b[0m     \u001b[39m# FIXME: _imaging returns a confusing error message for this case\u001b[39;00m\n\u001b[0;32m   1829\u001b[0m     msg \u001b[39m=\u001b[39m \u001b[39m\"\u001b[39m\u001b[39mpoint operation not supported for this mode\u001b[39m\u001b[39m\"\u001b[39m\n",
      "Cell \u001b[1;32mIn[5], line 3\u001b[0m, in \u001b[0;36mremove_color\u001b[1;34m(pixel)\u001b[0m\n\u001b[0;32m      2\u001b[0m \u001b[39mdef\u001b[39;00m \u001b[39mremove_color\u001b[39m(pixel):\n\u001b[1;32m----> 3\u001b[0m     r, g, b \u001b[39m=\u001b[39m pixel\n\u001b[0;32m      4\u001b[0m     \u001b[39mif\u001b[39;00m (r, g, b) \u001b[39m==\u001b[39m target_color:\n\u001b[0;32m      5\u001b[0m         \u001b[39mreturn\u001b[39;00m (\u001b[39m0\u001b[39m, \u001b[39m0\u001b[39m, \u001b[39m0\u001b[39m, \u001b[39m0\u001b[39m)\n",
      "\u001b[1;31mTypeError\u001b[0m: cannot unpack non-iterable int object"
     ]
    }
   ],
   "source": [
    "# Создайте функцию-ламбду, которая будет заменять пиксели нужного цвета на прозрачный цвет\n",
    "def remove_color(pixel):\n",
    "    r, g, b = pixel\n",
    "    if (r, g, b) == target_color:\n",
    "        return (0, 0, 0, 0)\n",
    "    else:\n",
    "        return (r, g, b, 255)\n",
    "\n",
    "\n",
    "for file_name in os.listdir(\"Cropped\"):\n",
    "     if file_name.endswith(\".jpg\") or file_name.endswith(\".png\"):\n",
    "         # Откройте изображение\n",
    "         img = Image.open(os.path.join(\"Cropped\", file_name))\n",
    "         img = img.convert(\"RGBA\")\n",
    "         img = img.point(remove_color)\n",
    "         img.save(os.path.join(\"Cropped\", \"removed_bg_\" + file_name))\n"
   ]
  },
  {
   "cell_type": "code",
   "execution_count": 6,
   "metadata": {},
   "outputs": [],
   "source": [
    "\n",
    "# Переберите все файлы в папке Croped\n",
    "for file_name in os.listdir(\"Cropped\"):\n",
    "    if file_name.endswith(\".jpg\") or file_name.endswith(\".png\"):\n",
    "        # Откройте изображение\n",
    "        img = Image.open(os.path.join(\"Cropped\", file_name))\n",
    "        \n",
    "        # Создайте маску, содержащую пиксели, близкие по цвету к target_color\n",
    "        mask = img.convert(\"L\").point(lambda pixel: 255 if abs(pixel - target_color[0]) + abs(pixel - target_color[1]) + abs(pixel - target_color[2]) <= fuzziness else 0)\n",
    "\n",
    "        # Размыть маску для сглаживания границ\n",
    "        mask = mask.filter(ImageFilter.GaussianBlur(5))\n",
    "        \n",
    "        # Примените маску к изображению и сохраните результат\n",
    "        img.putalpha(mask)\n",
    "        img.save(os.path.join(\"Cropped_no_bg\", \"removed_bg_\" + file_name))"
   ]
  },
  {
   "cell_type": "code",
   "execution_count": null,
   "metadata": {},
   "outputs": [],
   "source": []
  }
 ],
 "metadata": {
  "kernelspec": {
   "display_name": "Python 3",
   "language": "python",
   "name": "python3"
  },
  "language_info": {
   "codemirror_mode": {
    "name": "ipython",
    "version": 3
   },
   "file_extension": ".py",
   "mimetype": "text/x-python",
   "name": "python",
   "nbconvert_exporter": "python",
   "pygments_lexer": "ipython3",
   "version": "3.11.2"
  },
  "orig_nbformat": 4
 },
 "nbformat": 4,
 "nbformat_minor": 2
}
